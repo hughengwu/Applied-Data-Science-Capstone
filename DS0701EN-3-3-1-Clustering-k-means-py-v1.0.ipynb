{
 "cells": [
  {
   "cell_type": "markdown",
   "metadata": {
    "button": false,
    "new_sheet": false,
    "run_control": {
     "read_only": false
    }
   },
   "source": [
    "<a href=\"https://cognitiveclass.ai\"><img src = \"https://cf-courses-data.s3.us.cloud-object-storage.appdomain.cloud/IBMDeveloperSkillsNetwork-DS0701EN-SkillsNetwork/labs_v1/IDSNlogo.png\" width = 400> </a>\n",
    "\n",
    "<h1 align=center><font size = 5><em>k</em>-means Clustering</font></h1>\n"
   ]
  },
  {
   "cell_type": "markdown",
   "metadata": {
    "button": false,
    "new_sheet": false,
    "run_control": {
     "read_only": false
    }
   },
   "source": [
    "## Introduction\n",
    "\n",
    "There are many models for clustering out there. In this lab, we will be presenting the model that is considered the one of the simplest model among them. Despite its simplicity, _k_-means is vastly used for clustering in many data science applications, especially useful if you need to quickly discover insights from unlabeled data.\n",
    "\n",
    "Some real-world applications of _k_-means include:\n",
    "\n",
    "-   customer segmentation,\n",
    "-   understand what the visitors of a website are trying to accomplish,\n",
    "-   pattern recognition, and,\n",
    "-   data compression.\n",
    "\n",
    "In this lab, we will learn _k_-means clustering with 3 examples:\n",
    "\n",
    "-   _k_-means on a randomly generated dataset.\n",
    "-   Using _k_-means for customer segmentation.\n"
   ]
  },
  {
   "cell_type": "markdown",
   "metadata": {
    "button": false,
    "new_sheet": false,
    "run_control": {
     "read_only": false
    }
   },
   "source": [
    "## Table of Contents\n",
    "\n",
    "1.  <a href=\"#item1\"><em>k</em>-means on a Randomly Generated Dataset</a>    \n",
    "2.  <a href=\"#item2\">Using <em>k</em> for Customer Segmentation</a> \n"
   ]
  },
  {
   "cell_type": "markdown",
   "metadata": {
    "button": false,
    "new_sheet": false,
    "run_control": {
     "read_only": false
    }
   },
   "source": [
    "Before we start with the main lab content, let's download all the dependencies that we will need.\n"
   ]
  },
  {
   "cell_type": "code",
   "execution_count": 2,
   "metadata": {
    "button": false,
    "new_sheet": false,
    "run_control": {
     "read_only": false
    }
   },
   "outputs": [
    {
     "output_type": "stream",
     "name": "stdout",
     "text": [
      "Libraries imported.\n"
     ]
    }
   ],
   "source": [
    "import random # library for random number generation\n",
    "import numpy as np # library for vectorized computation\n",
    "import pandas as pd # library to process data as dataframes\n",
    "\n",
    "import matplotlib.pyplot as plt # plotting library\n",
    "# backend for rendering plots within the browser\n",
    "%matplotlib inline \n",
    "\n",
    "from sklearn.cluster import KMeans \n",
    "from sklearn.datasets import make_blobs\n",
    "\n",
    "print('Libraries imported.')"
   ]
  },
  {
   "cell_type": "markdown",
   "metadata": {
    "button": false,
    "new_sheet": false,
    "run_control": {
     "read_only": false
    }
   },
   "source": [
    "<a id='item1'></a>\n"
   ]
  },
  {
   "cell_type": "markdown",
   "metadata": {
    "button": false,
    "new_sheet": false,
    "run_control": {
     "read_only": false
    }
   },
   "source": [
    "## 1. _k_-means on a Randomly Generated Dataset\n"
   ]
  },
  {
   "cell_type": "markdown",
   "metadata": {
    "button": false,
    "new_sheet": false,
    "run_control": {
     "read_only": false
    }
   },
   "source": [
    "Let's first demonstrate how _k_-means works with an example of engineered datapoints. \n"
   ]
  },
  {
   "cell_type": "markdown",
   "metadata": {
    "button": false,
    "new_sheet": false,
    "run_control": {
     "read_only": false
    }
   },
   "source": [
    "#### 30 data points belonging to 2 different clusters (x1 is the first feature and x2 is the second feature)\n"
   ]
  },
  {
   "cell_type": "code",
   "execution_count": 3,
   "metadata": {
    "button": false,
    "new_sheet": false,
    "run_control": {
     "read_only": false
    }
   },
   "outputs": [
    {
     "output_type": "stream",
     "name": "stdout",
     "text": [
      "Datapoints defined!\n"
     ]
    }
   ],
   "source": [
    "# data\n",
    "x1 = [-4.9, -3.5, 0, -4.5, -3, -1, -1.2, -4.5, -1.5, -4.5, -1, -2, -2.5, -2, -1.5, 4, 1.8, 2, 2.5, 3, 4, 2.25, 1, 0, 1, 2.5, 5, 2.8, 2, 2]\n",
    "x2 = [-3.5, -4, -3.5, -3, -2.9, -3, -2.6, -2.1, 0, -0.5, -0.8, -0.8, -1.5, -1.75, -1.75, 0, 0.8, 0.9, 1, 1, 1, 1.75, 2, 2.5, 2.5, 2.5, 2.5, 3, 6, 6.5]\n",
    "\n",
    "print('Datapoints defined!')"
   ]
  },
  {
   "cell_type": "markdown",
   "metadata": {
    "button": false,
    "new_sheet": false,
    "run_control": {
     "read_only": false
    }
   },
   "source": [
    "#### Define a function that assigns each datapoint to a cluster\n"
   ]
  },
  {
   "cell_type": "code",
   "execution_count": 4,
   "metadata": {
    "button": false,
    "new_sheet": false,
    "run_control": {
     "read_only": false
    }
   },
   "outputs": [
    {
     "output_type": "stream",
     "name": "stdout",
     "text": [
      "assign_members function defined!\n"
     ]
    }
   ],
   "source": [
    "colors_map = np.array(['b', 'r'])\n",
    "def assign_members(x1, x2, centers):\n",
    "    compare_to_first_center = np.sqrt(np.square(np.array(x1) - centers[0][0]) + np.square(np.array(x2) - centers[0][1]))\n",
    "    compare_to_second_center = np.sqrt(np.square(np.array(x1) - centers[1][0]) + np.square(np.array(x2) - centers[1][1]))\n",
    "    class_of_points = compare_to_first_center > compare_to_second_center\n",
    "    colors = colors_map[class_of_points + 1 - 1]\n",
    "    return colors, class_of_points\n",
    "\n",
    "print('assign_members function defined!')"
   ]
  },
  {
   "cell_type": "markdown",
   "metadata": {
    "button": false,
    "new_sheet": false,
    "run_control": {
     "read_only": false
    }
   },
   "source": [
    "#### Define a function that updates the centroid of each cluster\n"
   ]
  },
  {
   "cell_type": "code",
   "execution_count": 5,
   "metadata": {
    "button": false,
    "new_sheet": false,
    "run_control": {
     "read_only": false
    }
   },
   "outputs": [
    {
     "output_type": "stream",
     "name": "stdout",
     "text": [
      "assign_members function defined!\n"
     ]
    }
   ],
   "source": [
    "# update means\n",
    "def update_centers(x1, x2, class_of_points):\n",
    "    center1 = [np.mean(np.array(x1)[~class_of_points]), np.mean(np.array(x2)[~class_of_points])]\n",
    "    center2 = [np.mean(np.array(x1)[class_of_points]), np.mean(np.array(x2)[class_of_points])]\n",
    "    return [center1, center2]\n",
    "\n",
    "print('assign_members function defined!')"
   ]
  },
  {
   "cell_type": "markdown",
   "metadata": {
    "button": false,
    "new_sheet": false,
    "run_control": {
     "read_only": false
    }
   },
   "source": [
    "#### Define a function that plots the data points along with the cluster centroids\n"
   ]
  },
  {
   "cell_type": "code",
   "execution_count": 6,
   "metadata": {
    "button": false,
    "new_sheet": false,
    "run_control": {
     "read_only": false
    }
   },
   "outputs": [
    {
     "output_type": "stream",
     "name": "stdout",
     "text": [
      "plot_points function defined!\n"
     ]
    }
   ],
   "source": [
    "def plot_points(centroids=None, colors='g', figure_title=None):\n",
    "    # plot the figure\n",
    "    fig = plt.figure(figsize=(15, 10))  # create a figure object\n",
    "    ax = fig.add_subplot(1, 1, 1)\n",
    "    \n",
    "    centroid_colors = ['bx', 'rx']\n",
    "    if centroids:\n",
    "        for (i, centroid) in enumerate(centroids):\n",
    "            ax.plot(centroid[0], centroid[1], centroid_colors[i], markeredgewidth=5, markersize=20)\n",
    "    plt.scatter(x1, x2, s=500, c=colors)\n",
    "    \n",
    "    # define the ticks\n",
    "    xticks = np.linspace(-6, 8, 15, endpoint=True)\n",
    "    yticks = np.linspace(-6, 6, 13, endpoint=True)\n",
    "\n",
    "    # fix the horizontal axis\n",
    "    ax.set_xticks(xticks)\n",
    "    ax.set_yticks(yticks)\n",
    "\n",
    "    # add tick labels\n",
    "    xlabels = xticks\n",
    "    ax.set_xticklabels(xlabels)\n",
    "    ylabels = yticks\n",
    "    ax.set_yticklabels(ylabels)\n",
    "\n",
    "    # style the ticks\n",
    "    ax.xaxis.set_ticks_position('bottom')\n",
    "    ax.yaxis.set_ticks_position('left')\n",
    "    ax.tick_params('both', length=2, width=1, which='major', labelsize=15)\n",
    "    \n",
    "    # add labels to axes\n",
    "    ax.set_xlabel('x1', fontsize=20)\n",
    "    ax.set_ylabel('x2', fontsize=20)\n",
    "    \n",
    "    # add title to figure\n",
    "    ax.set_title(figure_title, fontsize=24)\n",
    "\n",
    "    plt.show()\n",
    "\n",
    "print('plot_points function defined!')"
   ]
  },
  {
   "cell_type": "markdown",
   "metadata": {
    "button": false,
    "new_sheet": false,
    "run_control": {
     "read_only": false
    }
   },
   "source": [
    "#### Initialize _k_-means - plot data points\n"
   ]
  },
  {
   "cell_type": "code",
   "execution_count": 7,
   "metadata": {
    "button": false,
    "new_sheet": false,
    "run_control": {
     "read_only": false
    }
   },
   "outputs": [
    {
     "output_type": "display_data",
     "data": {
      "text/plain": "<Figure size 1080x720 with 1 Axes>",
      "image/svg+xml": "<?xml version=\"1.0\" encoding=\"utf-8\" standalone=\"no\"?>\r\n<!DOCTYPE svg PUBLIC \"-//W3C//DTD SVG 1.1//EN\"\r\n  \"http://www.w3.org/Graphics/SVG/1.1/DTD/svg11.dtd\">\r\n<svg height=\"625.609687pt\" version=\"1.1\" viewBox=\"0 0 921.45 625.609687\" width=\"921.45pt\" xmlns=\"http://www.w3.org/2000/svg\" xmlns:xlink=\"http://www.w3.org/1999/xlink\">\r\n <metadata>\r\n  <rdf:RDF xmlns:cc=\"http://creativecommons.org/ns#\" xmlns:dc=\"http://purl.org/dc/elements/1.1/\" xmlns:rdf=\"http://www.w3.org/1999/02/22-rdf-syntax-ns#\">\r\n   <cc:Work>\r\n    <dc:type rdf:resource=\"http://purl.org/dc/dcmitype/StillImage\"/>\r\n    <dc:date>2021-05-14T12:59:12.025863</dc:date>\r\n    <dc:format>image/svg+xml</dc:format>\r\n    <dc:creator>\r\n     <cc:Agent>\r\n      <dc:title>Matplotlib v3.4.1, https://matplotlib.org/</dc:title>\r\n     </cc:Agent>\r\n    </dc:creator>\r\n   </cc:Work>\r\n  </rdf:RDF>\r\n </metadata>\r\n <defs>\r\n  <style type=\"text/css\">*{stroke-linecap:butt;stroke-linejoin:round;}</style>\r\n </defs>\r\n <g id=\"figure_1\">\r\n  <g id=\"patch_1\">\r\n   <path d=\"M 0 625.609687 \r\nL 921.45 625.609687 \r\nL 921.45 0 \r\nL 0 0 \r\nz\r\n\" style=\"fill:none;\"/>\r\n  </g>\r\n  <g id=\"axes_1\">\r\n   <g id=\"patch_2\">\r\n    <path d=\"M 65.322656 575.03625 \r\nL 902.322656 575.03625 \r\nL 902.322656 31.43625 \r\nL 65.322656 31.43625 \r\nz\r\n\" style=\"fill:#ffffff;\"/>\r\n   </g>\r\n   <g id=\"PathCollection_1\">\r\n    <defs>\r\n     <path d=\"M 0 11.18034 \r\nC 2.965061 11.18034 5.80908 10.002309 7.905694 7.905694 \r\nC 10.002309 5.80908 11.18034 2.965061 11.18034 0 \r\nC 11.18034 -2.965061 10.002309 -5.80908 7.905694 -7.905694 \r\nC 5.80908 -10.002309 2.965061 -11.18034 0 -11.18034 \r\nC -2.965061 -11.18034 -5.80908 -10.002309 -7.905694 -7.905694 \r\nC -10.002309 -5.80908 -11.18034 -2.965061 -11.18034 0 \r\nC -11.18034 2.965061 -10.002309 5.80908 -7.905694 7.905694 \r\nC -5.80908 10.002309 -2.965061 11.18034 0 11.18034 \r\nz\r\n\" id=\"m4b9b5c834c\" style=\"stroke:#008000;\"/>\r\n    </defs>\r\n    <g clip-path=\"url(#p376dbd7c14)\">\r\n     <use style=\"fill:#008000;stroke:#008000;\" x=\"131.086942\" xlink:href=\"#m4b9b5c834c\" y=\"470.698438\"/>\r\n     <use style=\"fill:#008000;stroke:#008000;\" x=\"214.786942\" xlink:href=\"#m4b9b5c834c\" y=\"491.566\"/>\r\n     <use style=\"fill:#008000;stroke:#008000;\" x=\"424.036942\" xlink:href=\"#m4b9b5c834c\" y=\"470.698438\"/>\r\n     <use style=\"fill:#008000;stroke:#008000;\" x=\"155.001228\" xlink:href=\"#m4b9b5c834c\" y=\"449.830876\"/>\r\n     <use style=\"fill:#008000;stroke:#008000;\" x=\"244.679799\" xlink:href=\"#m4b9b5c834c\" y=\"445.657363\"/>\r\n     <use style=\"fill:#008000;stroke:#008000;\" x=\"364.251228\" xlink:href=\"#m4b9b5c834c\" y=\"449.830876\"/>\r\n     <use style=\"fill:#008000;stroke:#008000;\" x=\"352.294085\" xlink:href=\"#m4b9b5c834c\" y=\"433.136826\"/>\r\n     <use style=\"fill:#008000;stroke:#008000;\" x=\"155.001228\" xlink:href=\"#m4b9b5c834c\" y=\"412.269263\"/>\r\n     <use style=\"fill:#008000;stroke:#008000;\" x=\"334.358371\" xlink:href=\"#m4b9b5c834c\" y=\"324.625501\"/>\r\n     <use style=\"fill:#008000;stroke:#008000;\" x=\"155.001228\" xlink:href=\"#m4b9b5c834c\" y=\"345.493064\"/>\r\n     <use style=\"fill:#008000;stroke:#008000;\" x=\"364.251228\" xlink:href=\"#m4b9b5c834c\" y=\"358.013601\"/>\r\n     <use style=\"fill:#008000;stroke:#008000;\" x=\"304.465513\" xlink:href=\"#m4b9b5c834c\" y=\"358.013601\"/>\r\n     <use style=\"fill:#008000;stroke:#008000;\" x=\"274.572656\" xlink:href=\"#m4b9b5c834c\" y=\"387.228189\"/>\r\n     <use style=\"fill:#008000;stroke:#008000;\" x=\"304.465513\" xlink:href=\"#m4b9b5c834c\" y=\"397.66197\"/>\r\n     <use style=\"fill:#008000;stroke:#008000;\" x=\"334.358371\" xlink:href=\"#m4b9b5c834c\" y=\"397.66197\"/>\r\n     <use style=\"fill:#008000;stroke:#008000;\" x=\"663.179799\" xlink:href=\"#m4b9b5c834c\" y=\"324.625501\"/>\r\n     <use style=\"fill:#008000;stroke:#008000;\" x=\"531.651228\" xlink:href=\"#m4b9b5c834c\" y=\"291.237402\"/>\r\n     <use style=\"fill:#008000;stroke:#008000;\" x=\"543.608371\" xlink:href=\"#m4b9b5c834c\" y=\"287.063889\"/>\r\n     <use style=\"fill:#008000;stroke:#008000;\" x=\"573.501228\" xlink:href=\"#m4b9b5c834c\" y=\"282.890377\"/>\r\n     <use style=\"fill:#008000;stroke:#008000;\" x=\"603.394085\" xlink:href=\"#m4b9b5c834c\" y=\"282.890377\"/>\r\n     <use style=\"fill:#008000;stroke:#008000;\" x=\"663.179799\" xlink:href=\"#m4b9b5c834c\" y=\"282.890377\"/>\r\n     <use style=\"fill:#008000;stroke:#008000;\" x=\"558.554799\" xlink:href=\"#m4b9b5c834c\" y=\"251.589033\"/>\r\n     <use style=\"fill:#008000;stroke:#008000;\" x=\"483.822656\" xlink:href=\"#m4b9b5c834c\" y=\"241.155252\"/>\r\n     <use style=\"fill:#008000;stroke:#008000;\" x=\"424.036942\" xlink:href=\"#m4b9b5c834c\" y=\"220.28769\"/>\r\n     <use style=\"fill:#008000;stroke:#008000;\" x=\"483.822656\" xlink:href=\"#m4b9b5c834c\" y=\"220.28769\"/>\r\n     <use style=\"fill:#008000;stroke:#008000;\" x=\"573.501228\" xlink:href=\"#m4b9b5c834c\" y=\"220.28769\"/>\r\n     <use style=\"fill:#008000;stroke:#008000;\" x=\"722.965513\" xlink:href=\"#m4b9b5c834c\" y=\"220.28769\"/>\r\n     <use style=\"fill:#008000;stroke:#008000;\" x=\"591.436942\" xlink:href=\"#m4b9b5c834c\" y=\"199.420127\"/>\r\n     <use style=\"fill:#008000;stroke:#008000;\" x=\"543.608371\" xlink:href=\"#m4b9b5c834c\" y=\"74.214753\"/>\r\n     <use style=\"fill:#008000;stroke:#008000;\" x=\"543.608371\" xlink:href=\"#m4b9b5c834c\" y=\"53.34719\"/>\r\n    </g>\r\n   </g>\r\n   <g id=\"matplotlib.axis_1\">\r\n    <g id=\"xtick_1\">\r\n     <g id=\"line2d_1\">\r\n      <defs>\r\n       <path d=\"M 0 0 \r\nL 0 2 \r\n\" id=\"m442c95a217\" style=\"stroke:#000000;\"/>\r\n      </defs>\r\n      <g>\r\n       <use style=\"stroke:#000000;\" x=\"65.322656\" xlink:href=\"#m442c95a217\" y=\"575.03625\"/>\r\n      </g>\r\n     </g>\r\n     <g id=\"text_1\">\r\n      <!-- -6.0 -->\r\n      <g transform=\"translate(50.689453 591.933906)scale(0.15 -0.15)\">\r\n       <defs>\r\n        <path d=\"M 313 2009 \r\nL 1997 2009 \r\nL 1997 1497 \r\nL 313 1497 \r\nL 313 2009 \r\nz\r\n\" id=\"DejaVuSans-2d\" transform=\"scale(0.015625)\"/>\r\n        <path d=\"M 2113 2584 \r\nQ 1688 2584 1439 2293 \r\nQ 1191 2003 1191 1497 \r\nQ 1191 994 1439 701 \r\nQ 1688 409 2113 409 \r\nQ 2538 409 2786 701 \r\nQ 3034 994 3034 1497 \r\nQ 3034 2003 2786 2293 \r\nQ 2538 2584 2113 2584 \r\nz\r\nM 3366 4563 \r\nL 3366 3988 \r\nQ 3128 4100 2886 4159 \r\nQ 2644 4219 2406 4219 \r\nQ 1781 4219 1451 3797 \r\nQ 1122 3375 1075 2522 \r\nQ 1259 2794 1537 2939 \r\nQ 1816 3084 2150 3084 \r\nQ 2853 3084 3261 2657 \r\nQ 3669 2231 3669 1497 \r\nQ 3669 778 3244 343 \r\nQ 2819 -91 2113 -91 \r\nQ 1303 -91 875 529 \r\nQ 447 1150 447 2328 \r\nQ 447 3434 972 4092 \r\nQ 1497 4750 2381 4750 \r\nQ 2619 4750 2861 4703 \r\nQ 3103 4656 3366 4563 \r\nz\r\n\" id=\"DejaVuSans-36\" transform=\"scale(0.015625)\"/>\r\n        <path d=\"M 684 794 \r\nL 1344 794 \r\nL 1344 0 \r\nL 684 0 \r\nL 684 794 \r\nz\r\n\" id=\"DejaVuSans-2e\" transform=\"scale(0.015625)\"/>\r\n        <path d=\"M 2034 4250 \r\nQ 1547 4250 1301 3770 \r\nQ 1056 3291 1056 2328 \r\nQ 1056 1369 1301 889 \r\nQ 1547 409 2034 409 \r\nQ 2525 409 2770 889 \r\nQ 3016 1369 3016 2328 \r\nQ 3016 3291 2770 3770 \r\nQ 2525 4250 2034 4250 \r\nz\r\nM 2034 4750 \r\nQ 2819 4750 3233 4129 \r\nQ 3647 3509 3647 2328 \r\nQ 3647 1150 3233 529 \r\nQ 2819 -91 2034 -91 \r\nQ 1250 -91 836 529 \r\nQ 422 1150 422 2328 \r\nQ 422 3509 836 4129 \r\nQ 1250 4750 2034 4750 \r\nz\r\n\" id=\"DejaVuSans-30\" transform=\"scale(0.015625)\"/>\r\n       </defs>\r\n       <use xlink:href=\"#DejaVuSans-2d\"/>\r\n       <use x=\"36.083984\" xlink:href=\"#DejaVuSans-36\"/>\r\n       <use x=\"99.707031\" xlink:href=\"#DejaVuSans-2e\"/>\r\n       <use x=\"131.494141\" xlink:href=\"#DejaVuSans-30\"/>\r\n      </g>\r\n     </g>\r\n    </g>\r\n    <g id=\"xtick_2\">\r\n     <g id=\"line2d_2\">\r\n      <g>\r\n       <use style=\"stroke:#000000;\" x=\"125.108371\" xlink:href=\"#m442c95a217\" y=\"575.03625\"/>\r\n      </g>\r\n     </g>\r\n     <g id=\"text_2\">\r\n      <!-- -5.0 -->\r\n      <g transform=\"translate(110.475167 591.933906)scale(0.15 -0.15)\">\r\n       <defs>\r\n        <path d=\"M 691 4666 \r\nL 3169 4666 \r\nL 3169 4134 \r\nL 1269 4134 \r\nL 1269 2991 \r\nQ 1406 3038 1543 3061 \r\nQ 1681 3084 1819 3084 \r\nQ 2600 3084 3056 2656 \r\nQ 3513 2228 3513 1497 \r\nQ 3513 744 3044 326 \r\nQ 2575 -91 1722 -91 \r\nQ 1428 -91 1123 -41 \r\nQ 819 9 494 109 \r\nL 494 744 \r\nQ 775 591 1075 516 \r\nQ 1375 441 1709 441 \r\nQ 2250 441 2565 725 \r\nQ 2881 1009 2881 1497 \r\nQ 2881 1984 2565 2268 \r\nQ 2250 2553 1709 2553 \r\nQ 1456 2553 1204 2497 \r\nQ 953 2441 691 2322 \r\nL 691 4666 \r\nz\r\n\" id=\"DejaVuSans-35\" transform=\"scale(0.015625)\"/>\r\n       </defs>\r\n       <use xlink:href=\"#DejaVuSans-2d\"/>\r\n       <use x=\"36.083984\" xlink:href=\"#DejaVuSans-35\"/>\r\n       <use x=\"99.707031\" xlink:href=\"#DejaVuSans-2e\"/>\r\n       <use x=\"131.494141\" xlink:href=\"#DejaVuSans-30\"/>\r\n      </g>\r\n     </g>\r\n    </g>\r\n    <g id=\"xtick_3\">\r\n     <g id=\"line2d_3\">\r\n      <g>\r\n       <use style=\"stroke:#000000;\" x=\"184.894085\" xlink:href=\"#m442c95a217\" y=\"575.03625\"/>\r\n      </g>\r\n     </g>\r\n     <g id=\"text_3\">\r\n      <!-- -4.0 -->\r\n      <g transform=\"translate(170.260882 591.933906)scale(0.15 -0.15)\">\r\n       <defs>\r\n        <path d=\"M 2419 4116 \r\nL 825 1625 \r\nL 2419 1625 \r\nL 2419 4116 \r\nz\r\nM 2253 4666 \r\nL 3047 4666 \r\nL 3047 1625 \r\nL 3713 1625 \r\nL 3713 1100 \r\nL 3047 1100 \r\nL 3047 0 \r\nL 2419 0 \r\nL 2419 1100 \r\nL 313 1100 \r\nL 313 1709 \r\nL 2253 4666 \r\nz\r\n\" id=\"DejaVuSans-34\" transform=\"scale(0.015625)\"/>\r\n       </defs>\r\n       <use xlink:href=\"#DejaVuSans-2d\"/>\r\n       <use x=\"36.083984\" xlink:href=\"#DejaVuSans-34\"/>\r\n       <use x=\"99.707031\" xlink:href=\"#DejaVuSans-2e\"/>\r\n       <use x=\"131.494141\" xlink:href=\"#DejaVuSans-30\"/>\r\n      </g>\r\n     </g>\r\n    </g>\r\n    <g id=\"xtick_4\">\r\n     <g id=\"line2d_4\">\r\n      <g>\r\n       <use style=\"stroke:#000000;\" x=\"244.679799\" xlink:href=\"#m442c95a217\" y=\"575.03625\"/>\r\n      </g>\r\n     </g>\r\n     <g id=\"text_4\">\r\n      <!-- -3.0 -->\r\n      <g transform=\"translate(230.046596 591.933906)scale(0.15 -0.15)\">\r\n       <defs>\r\n        <path d=\"M 2597 2516 \r\nQ 3050 2419 3304 2112 \r\nQ 3559 1806 3559 1356 \r\nQ 3559 666 3084 287 \r\nQ 2609 -91 1734 -91 \r\nQ 1441 -91 1130 -33 \r\nQ 819 25 488 141 \r\nL 488 750 \r\nQ 750 597 1062 519 \r\nQ 1375 441 1716 441 \r\nQ 2309 441 2620 675 \r\nQ 2931 909 2931 1356 \r\nQ 2931 1769 2642 2001 \r\nQ 2353 2234 1838 2234 \r\nL 1294 2234 \r\nL 1294 2753 \r\nL 1863 2753 \r\nQ 2328 2753 2575 2939 \r\nQ 2822 3125 2822 3475 \r\nQ 2822 3834 2567 4026 \r\nQ 2313 4219 1838 4219 \r\nQ 1578 4219 1281 4162 \r\nQ 984 4106 628 3988 \r\nL 628 4550 \r\nQ 988 4650 1302 4700 \r\nQ 1616 4750 1894 4750 \r\nQ 2613 4750 3031 4423 \r\nQ 3450 4097 3450 3541 \r\nQ 3450 3153 3228 2886 \r\nQ 3006 2619 2597 2516 \r\nz\r\n\" id=\"DejaVuSans-33\" transform=\"scale(0.015625)\"/>\r\n       </defs>\r\n       <use xlink:href=\"#DejaVuSans-2d\"/>\r\n       <use x=\"36.083984\" xlink:href=\"#DejaVuSans-33\"/>\r\n       <use x=\"99.707031\" xlink:href=\"#DejaVuSans-2e\"/>\r\n       <use x=\"131.494141\" xlink:href=\"#DejaVuSans-30\"/>\r\n      </g>\r\n     </g>\r\n    </g>\r\n    <g id=\"xtick_5\">\r\n     <g id=\"line2d_5\">\r\n      <g>\r\n       <use style=\"stroke:#000000;\" x=\"304.465513\" xlink:href=\"#m442c95a217\" y=\"575.03625\"/>\r\n      </g>\r\n     </g>\r\n     <g id=\"text_5\">\r\n      <!-- -2.0 -->\r\n      <g transform=\"translate(289.83231 591.933906)scale(0.15 -0.15)\">\r\n       <defs>\r\n        <path d=\"M 1228 531 \r\nL 3431 531 \r\nL 3431 0 \r\nL 469 0 \r\nL 469 531 \r\nQ 828 903 1448 1529 \r\nQ 2069 2156 2228 2338 \r\nQ 2531 2678 2651 2914 \r\nQ 2772 3150 2772 3378 \r\nQ 2772 3750 2511 3984 \r\nQ 2250 4219 1831 4219 \r\nQ 1534 4219 1204 4116 \r\nQ 875 4013 500 3803 \r\nL 500 4441 \r\nQ 881 4594 1212 4672 \r\nQ 1544 4750 1819 4750 \r\nQ 2544 4750 2975 4387 \r\nQ 3406 4025 3406 3419 \r\nQ 3406 3131 3298 2873 \r\nQ 3191 2616 2906 2266 \r\nQ 2828 2175 2409 1742 \r\nQ 1991 1309 1228 531 \r\nz\r\n\" id=\"DejaVuSans-32\" transform=\"scale(0.015625)\"/>\r\n       </defs>\r\n       <use xlink:href=\"#DejaVuSans-2d\"/>\r\n       <use x=\"36.083984\" xlink:href=\"#DejaVuSans-32\"/>\r\n       <use x=\"99.707031\" xlink:href=\"#DejaVuSans-2e\"/>\r\n       <use x=\"131.494141\" xlink:href=\"#DejaVuSans-30\"/>\r\n      </g>\r\n     </g>\r\n    </g>\r\n    <g id=\"xtick_6\">\r\n     <g id=\"line2d_6\">\r\n      <g>\r\n       <use style=\"stroke:#000000;\" x=\"364.251228\" xlink:href=\"#m442c95a217\" y=\"575.03625\"/>\r\n      </g>\r\n     </g>\r\n     <g id=\"text_6\">\r\n      <!-- -1.0 -->\r\n      <g transform=\"translate(349.618025 591.933906)scale(0.15 -0.15)\">\r\n       <defs>\r\n        <path d=\"M 794 531 \r\nL 1825 531 \r\nL 1825 4091 \r\nL 703 3866 \r\nL 703 4441 \r\nL 1819 4666 \r\nL 2450 4666 \r\nL 2450 531 \r\nL 3481 531 \r\nL 3481 0 \r\nL 794 0 \r\nL 794 531 \r\nz\r\n\" id=\"DejaVuSans-31\" transform=\"scale(0.015625)\"/>\r\n       </defs>\r\n       <use xlink:href=\"#DejaVuSans-2d\"/>\r\n       <use x=\"36.083984\" xlink:href=\"#DejaVuSans-31\"/>\r\n       <use x=\"99.707031\" xlink:href=\"#DejaVuSans-2e\"/>\r\n       <use x=\"131.494141\" xlink:href=\"#DejaVuSans-30\"/>\r\n      </g>\r\n     </g>\r\n    </g>\r\n    <g id=\"xtick_7\">\r\n     <g id=\"line2d_7\">\r\n      <g>\r\n       <use style=\"stroke:#000000;\" x=\"424.036942\" xlink:href=\"#m442c95a217\" y=\"575.03625\"/>\r\n      </g>\r\n     </g>\r\n     <g id=\"text_7\">\r\n      <!-- 0.0 -->\r\n      <g transform=\"translate(412.109598 591.933906)scale(0.15 -0.15)\">\r\n       <use xlink:href=\"#DejaVuSans-30\"/>\r\n       <use x=\"63.623047\" xlink:href=\"#DejaVuSans-2e\"/>\r\n       <use x=\"95.410156\" xlink:href=\"#DejaVuSans-30\"/>\r\n      </g>\r\n     </g>\r\n    </g>\r\n    <g id=\"xtick_8\">\r\n     <g id=\"line2d_8\">\r\n      <g>\r\n       <use style=\"stroke:#000000;\" x=\"483.822656\" xlink:href=\"#m442c95a217\" y=\"575.03625\"/>\r\n      </g>\r\n     </g>\r\n     <g id=\"text_8\">\r\n      <!-- 1.0 -->\r\n      <g transform=\"translate(471.895313 591.933906)scale(0.15 -0.15)\">\r\n       <use xlink:href=\"#DejaVuSans-31\"/>\r\n       <use x=\"63.623047\" xlink:href=\"#DejaVuSans-2e\"/>\r\n       <use x=\"95.410156\" xlink:href=\"#DejaVuSans-30\"/>\r\n      </g>\r\n     </g>\r\n    </g>\r\n    <g id=\"xtick_9\">\r\n     <g id=\"line2d_9\">\r\n      <g>\r\n       <use style=\"stroke:#000000;\" x=\"543.608371\" xlink:href=\"#m442c95a217\" y=\"575.03625\"/>\r\n      </g>\r\n     </g>\r\n     <g id=\"text_9\">\r\n      <!-- 2.0 -->\r\n      <g transform=\"translate(531.681027 591.933906)scale(0.15 -0.15)\">\r\n       <use xlink:href=\"#DejaVuSans-32\"/>\r\n       <use x=\"63.623047\" xlink:href=\"#DejaVuSans-2e\"/>\r\n       <use x=\"95.410156\" xlink:href=\"#DejaVuSans-30\"/>\r\n      </g>\r\n     </g>\r\n    </g>\r\n    <g id=\"xtick_10\">\r\n     <g id=\"line2d_10\">\r\n      <g>\r\n       <use style=\"stroke:#000000;\" x=\"603.394085\" xlink:href=\"#m442c95a217\" y=\"575.03625\"/>\r\n      </g>\r\n     </g>\r\n     <g id=\"text_10\">\r\n      <!-- 3.0 -->\r\n      <g transform=\"translate(591.466741 591.933906)scale(0.15 -0.15)\">\r\n       <use xlink:href=\"#DejaVuSans-33\"/>\r\n       <use x=\"63.623047\" xlink:href=\"#DejaVuSans-2e\"/>\r\n       <use x=\"95.410156\" xlink:href=\"#DejaVuSans-30\"/>\r\n      </g>\r\n     </g>\r\n    </g>\r\n    <g id=\"xtick_11\">\r\n     <g id=\"line2d_11\">\r\n      <g>\r\n       <use style=\"stroke:#000000;\" x=\"663.179799\" xlink:href=\"#m442c95a217\" y=\"575.03625\"/>\r\n      </g>\r\n     </g>\r\n     <g id=\"text_11\">\r\n      <!-- 4.0 -->\r\n      <g transform=\"translate(651.252455 591.933906)scale(0.15 -0.15)\">\r\n       <use xlink:href=\"#DejaVuSans-34\"/>\r\n       <use x=\"63.623047\" xlink:href=\"#DejaVuSans-2e\"/>\r\n       <use x=\"95.410156\" xlink:href=\"#DejaVuSans-30\"/>\r\n      </g>\r\n     </g>\r\n    </g>\r\n    <g id=\"xtick_12\">\r\n     <g id=\"line2d_12\">\r\n      <g>\r\n       <use style=\"stroke:#000000;\" x=\"722.965513\" xlink:href=\"#m442c95a217\" y=\"575.03625\"/>\r\n      </g>\r\n     </g>\r\n     <g id=\"text_12\">\r\n      <!-- 5.0 -->\r\n      <g transform=\"translate(711.03817 591.933906)scale(0.15 -0.15)\">\r\n       <use xlink:href=\"#DejaVuSans-35\"/>\r\n       <use x=\"63.623047\" xlink:href=\"#DejaVuSans-2e\"/>\r\n       <use x=\"95.410156\" xlink:href=\"#DejaVuSans-30\"/>\r\n      </g>\r\n     </g>\r\n    </g>\r\n    <g id=\"xtick_13\">\r\n     <g id=\"line2d_13\">\r\n      <g>\r\n       <use style=\"stroke:#000000;\" x=\"782.751228\" xlink:href=\"#m442c95a217\" y=\"575.03625\"/>\r\n      </g>\r\n     </g>\r\n     <g id=\"text_13\">\r\n      <!-- 6.0 -->\r\n      <g transform=\"translate(770.823884 591.933906)scale(0.15 -0.15)\">\r\n       <use xlink:href=\"#DejaVuSans-36\"/>\r\n       <use x=\"63.623047\" xlink:href=\"#DejaVuSans-2e\"/>\r\n       <use x=\"95.410156\" xlink:href=\"#DejaVuSans-30\"/>\r\n      </g>\r\n     </g>\r\n    </g>\r\n    <g id=\"xtick_14\">\r\n     <g id=\"line2d_14\">\r\n      <g>\r\n       <use style=\"stroke:#000000;\" x=\"842.536942\" xlink:href=\"#m442c95a217\" y=\"575.03625\"/>\r\n      </g>\r\n     </g>\r\n     <g id=\"text_14\">\r\n      <!-- 7.0 -->\r\n      <g transform=\"translate(830.609598 591.933906)scale(0.15 -0.15)\">\r\n       <defs>\r\n        <path d=\"M 525 4666 \r\nL 3525 4666 \r\nL 3525 4397 \r\nL 1831 0 \r\nL 1172 0 \r\nL 2766 4134 \r\nL 525 4134 \r\nL 525 4666 \r\nz\r\n\" id=\"DejaVuSans-37\" transform=\"scale(0.015625)\"/>\r\n       </defs>\r\n       <use xlink:href=\"#DejaVuSans-37\"/>\r\n       <use x=\"63.623047\" xlink:href=\"#DejaVuSans-2e\"/>\r\n       <use x=\"95.410156\" xlink:href=\"#DejaVuSans-30\"/>\r\n      </g>\r\n     </g>\r\n    </g>\r\n    <g id=\"xtick_15\">\r\n     <g id=\"line2d_15\">\r\n      <g>\r\n       <use style=\"stroke:#000000;\" x=\"902.322656\" xlink:href=\"#m442c95a217\" y=\"575.03625\"/>\r\n      </g>\r\n     </g>\r\n     <g id=\"text_15\">\r\n      <!-- 8.0 -->\r\n      <g transform=\"translate(890.395313 591.933906)scale(0.15 -0.15)\">\r\n       <defs>\r\n        <path d=\"M 2034 2216 \r\nQ 1584 2216 1326 1975 \r\nQ 1069 1734 1069 1313 \r\nQ 1069 891 1326 650 \r\nQ 1584 409 2034 409 \r\nQ 2484 409 2743 651 \r\nQ 3003 894 3003 1313 \r\nQ 3003 1734 2745 1975 \r\nQ 2488 2216 2034 2216 \r\nz\r\nM 1403 2484 \r\nQ 997 2584 770 2862 \r\nQ 544 3141 544 3541 \r\nQ 544 4100 942 4425 \r\nQ 1341 4750 2034 4750 \r\nQ 2731 4750 3128 4425 \r\nQ 3525 4100 3525 3541 \r\nQ 3525 3141 3298 2862 \r\nQ 3072 2584 2669 2484 \r\nQ 3125 2378 3379 2068 \r\nQ 3634 1759 3634 1313 \r\nQ 3634 634 3220 271 \r\nQ 2806 -91 2034 -91 \r\nQ 1263 -91 848 271 \r\nQ 434 634 434 1313 \r\nQ 434 1759 690 2068 \r\nQ 947 2378 1403 2484 \r\nz\r\nM 1172 3481 \r\nQ 1172 3119 1398 2916 \r\nQ 1625 2713 2034 2713 \r\nQ 2441 2713 2670 2916 \r\nQ 2900 3119 2900 3481 \r\nQ 2900 3844 2670 4047 \r\nQ 2441 4250 2034 4250 \r\nQ 1625 4250 1398 4047 \r\nQ 1172 3844 1172 3481 \r\nz\r\n\" id=\"DejaVuSans-38\" transform=\"scale(0.015625)\"/>\r\n       </defs>\r\n       <use xlink:href=\"#DejaVuSans-38\"/>\r\n       <use x=\"63.623047\" xlink:href=\"#DejaVuSans-2e\"/>\r\n       <use x=\"95.410156\" xlink:href=\"#DejaVuSans-30\"/>\r\n      </g>\r\n     </g>\r\n    </g>\r\n    <g id=\"text_16\">\r\n     <!-- x1 -->\r\n     <g transform=\"translate(471.541406 614.250312)scale(0.2 -0.2)\">\r\n      <defs>\r\n       <path d=\"M 3513 3500 \r\nL 2247 1797 \r\nL 3578 0 \r\nL 2900 0 \r\nL 1881 1375 \r\nL 863 0 \r\nL 184 0 \r\nL 1544 1831 \r\nL 300 3500 \r\nL 978 3500 \r\nL 1906 2253 \r\nL 2834 3500 \r\nL 3513 3500 \r\nz\r\n\" id=\"DejaVuSans-78\" transform=\"scale(0.015625)\"/>\r\n      </defs>\r\n      <use xlink:href=\"#DejaVuSans-78\"/>\r\n      <use x=\"59.179688\" xlink:href=\"#DejaVuSans-31\"/>\r\n     </g>\r\n    </g>\r\n   </g>\r\n   <g id=\"matplotlib.axis_2\">\r\n    <g id=\"ytick_1\">\r\n     <g id=\"line2d_16\">\r\n      <defs>\r\n       <path d=\"M 0 0 \r\nL -2 0 \r\n\" id=\"mf6443cfd65\" style=\"stroke:#000000;\"/>\r\n      </defs>\r\n      <g>\r\n       <use style=\"stroke:#000000;\" x=\"65.322656\" xlink:href=\"#mf6443cfd65\" y=\"575.03625\"/>\r\n      </g>\r\n     </g>\r\n     <g id=\"text_17\">\r\n      <!-- -6.0 -->\r\n      <g transform=\"translate(30.55625 580.735078)scale(0.15 -0.15)\">\r\n       <use xlink:href=\"#DejaVuSans-2d\"/>\r\n       <use x=\"36.083984\" xlink:href=\"#DejaVuSans-36\"/>\r\n       <use x=\"99.707031\" xlink:href=\"#DejaVuSans-2e\"/>\r\n       <use x=\"131.494141\" xlink:href=\"#DejaVuSans-30\"/>\r\n      </g>\r\n     </g>\r\n    </g>\r\n    <g id=\"ytick_2\">\r\n     <g id=\"line2d_17\">\r\n      <g>\r\n       <use style=\"stroke:#000000;\" x=\"65.322656\" xlink:href=\"#mf6443cfd65\" y=\"533.301125\"/>\r\n      </g>\r\n     </g>\r\n     <g id=\"text_18\">\r\n      <!-- -5.0 -->\r\n      <g transform=\"translate(30.55625 538.999953)scale(0.15 -0.15)\">\r\n       <use xlink:href=\"#DejaVuSans-2d\"/>\r\n       <use x=\"36.083984\" xlink:href=\"#DejaVuSans-35\"/>\r\n       <use x=\"99.707031\" xlink:href=\"#DejaVuSans-2e\"/>\r\n       <use x=\"131.494141\" xlink:href=\"#DejaVuSans-30\"/>\r\n      </g>\r\n     </g>\r\n    </g>\r\n    <g id=\"ytick_3\">\r\n     <g id=\"line2d_18\">\r\n      <g>\r\n       <use style=\"stroke:#000000;\" x=\"65.322656\" xlink:href=\"#mf6443cfd65\" y=\"491.566\"/>\r\n      </g>\r\n     </g>\r\n     <g id=\"text_19\">\r\n      <!-- -4.0 -->\r\n      <g transform=\"translate(30.55625 497.264829)scale(0.15 -0.15)\">\r\n       <use xlink:href=\"#DejaVuSans-2d\"/>\r\n       <use x=\"36.083984\" xlink:href=\"#DejaVuSans-34\"/>\r\n       <use x=\"99.707031\" xlink:href=\"#DejaVuSans-2e\"/>\r\n       <use x=\"131.494141\" xlink:href=\"#DejaVuSans-30\"/>\r\n      </g>\r\n     </g>\r\n    </g>\r\n    <g id=\"ytick_4\">\r\n     <g id=\"line2d_19\">\r\n      <g>\r\n       <use style=\"stroke:#000000;\" x=\"65.322656\" xlink:href=\"#mf6443cfd65\" y=\"449.830876\"/>\r\n      </g>\r\n     </g>\r\n     <g id=\"text_20\">\r\n      <!-- -3.0 -->\r\n      <g transform=\"translate(30.55625 455.529704)scale(0.15 -0.15)\">\r\n       <use xlink:href=\"#DejaVuSans-2d\"/>\r\n       <use x=\"36.083984\" xlink:href=\"#DejaVuSans-33\"/>\r\n       <use x=\"99.707031\" xlink:href=\"#DejaVuSans-2e\"/>\r\n       <use x=\"131.494141\" xlink:href=\"#DejaVuSans-30\"/>\r\n      </g>\r\n     </g>\r\n    </g>\r\n    <g id=\"ytick_5\">\r\n     <g id=\"line2d_20\">\r\n      <g>\r\n       <use style=\"stroke:#000000;\" x=\"65.322656\" xlink:href=\"#mf6443cfd65\" y=\"408.095751\"/>\r\n      </g>\r\n     </g>\r\n     <g id=\"text_21\">\r\n      <!-- -2.0 -->\r\n      <g transform=\"translate(30.55625 413.794579)scale(0.15 -0.15)\">\r\n       <use xlink:href=\"#DejaVuSans-2d\"/>\r\n       <use x=\"36.083984\" xlink:href=\"#DejaVuSans-32\"/>\r\n       <use x=\"99.707031\" xlink:href=\"#DejaVuSans-2e\"/>\r\n       <use x=\"131.494141\" xlink:href=\"#DejaVuSans-30\"/>\r\n      </g>\r\n     </g>\r\n    </g>\r\n    <g id=\"ytick_6\">\r\n     <g id=\"line2d_21\">\r\n      <g>\r\n       <use style=\"stroke:#000000;\" x=\"65.322656\" xlink:href=\"#mf6443cfd65\" y=\"366.360626\"/>\r\n      </g>\r\n     </g>\r\n     <g id=\"text_22\">\r\n      <!-- -1.0 -->\r\n      <g transform=\"translate(30.55625 372.059454)scale(0.15 -0.15)\">\r\n       <use xlink:href=\"#DejaVuSans-2d\"/>\r\n       <use x=\"36.083984\" xlink:href=\"#DejaVuSans-31\"/>\r\n       <use x=\"99.707031\" xlink:href=\"#DejaVuSans-2e\"/>\r\n       <use x=\"131.494141\" xlink:href=\"#DejaVuSans-30\"/>\r\n      </g>\r\n     </g>\r\n    </g>\r\n    <g id=\"ytick_7\">\r\n     <g id=\"line2d_22\">\r\n      <g>\r\n       <use style=\"stroke:#000000;\" x=\"65.322656\" xlink:href=\"#mf6443cfd65\" y=\"324.625501\"/>\r\n      </g>\r\n     </g>\r\n     <g id=\"text_23\">\r\n      <!-- 0.0 -->\r\n      <g transform=\"translate(35.967969 330.32433)scale(0.15 -0.15)\">\r\n       <use xlink:href=\"#DejaVuSans-30\"/>\r\n       <use x=\"63.623047\" xlink:href=\"#DejaVuSans-2e\"/>\r\n       <use x=\"95.410156\" xlink:href=\"#DejaVuSans-30\"/>\r\n      </g>\r\n     </g>\r\n    </g>\r\n    <g id=\"ytick_8\">\r\n     <g id=\"line2d_23\">\r\n      <g>\r\n       <use style=\"stroke:#000000;\" x=\"65.322656\" xlink:href=\"#mf6443cfd65\" y=\"282.890377\"/>\r\n      </g>\r\n     </g>\r\n     <g id=\"text_24\">\r\n      <!-- 1.0 -->\r\n      <g transform=\"translate(35.967969 288.589205)scale(0.15 -0.15)\">\r\n       <use xlink:href=\"#DejaVuSans-31\"/>\r\n       <use x=\"63.623047\" xlink:href=\"#DejaVuSans-2e\"/>\r\n       <use x=\"95.410156\" xlink:href=\"#DejaVuSans-30\"/>\r\n      </g>\r\n     </g>\r\n    </g>\r\n    <g id=\"ytick_9\">\r\n     <g id=\"line2d_24\">\r\n      <g>\r\n       <use style=\"stroke:#000000;\" x=\"65.322656\" xlink:href=\"#mf6443cfd65\" y=\"241.155252\"/>\r\n      </g>\r\n     </g>\r\n     <g id=\"text_25\">\r\n      <!-- 2.0 -->\r\n      <g transform=\"translate(35.967969 246.85408)scale(0.15 -0.15)\">\r\n       <use xlink:href=\"#DejaVuSans-32\"/>\r\n       <use x=\"63.623047\" xlink:href=\"#DejaVuSans-2e\"/>\r\n       <use x=\"95.410156\" xlink:href=\"#DejaVuSans-30\"/>\r\n      </g>\r\n     </g>\r\n    </g>\r\n    <g id=\"ytick_10\">\r\n     <g id=\"line2d_25\">\r\n      <g>\r\n       <use style=\"stroke:#000000;\" x=\"65.322656\" xlink:href=\"#mf6443cfd65\" y=\"199.420127\"/>\r\n      </g>\r\n     </g>\r\n     <g id=\"text_26\">\r\n      <!-- 3.0 -->\r\n      <g transform=\"translate(35.967969 205.118955)scale(0.15 -0.15)\">\r\n       <use xlink:href=\"#DejaVuSans-33\"/>\r\n       <use x=\"63.623047\" xlink:href=\"#DejaVuSans-2e\"/>\r\n       <use x=\"95.410156\" xlink:href=\"#DejaVuSans-30\"/>\r\n      </g>\r\n     </g>\r\n    </g>\r\n    <g id=\"ytick_11\">\r\n     <g id=\"line2d_26\">\r\n      <g>\r\n       <use style=\"stroke:#000000;\" x=\"65.322656\" xlink:href=\"#mf6443cfd65\" y=\"157.685002\"/>\r\n      </g>\r\n     </g>\r\n     <g id=\"text_27\">\r\n      <!-- 4.0 -->\r\n      <g transform=\"translate(35.967969 163.383831)scale(0.15 -0.15)\">\r\n       <use xlink:href=\"#DejaVuSans-34\"/>\r\n       <use x=\"63.623047\" xlink:href=\"#DejaVuSans-2e\"/>\r\n       <use x=\"95.410156\" xlink:href=\"#DejaVuSans-30\"/>\r\n      </g>\r\n     </g>\r\n    </g>\r\n    <g id=\"ytick_12\">\r\n     <g id=\"line2d_27\">\r\n      <g>\r\n       <use style=\"stroke:#000000;\" x=\"65.322656\" xlink:href=\"#mf6443cfd65\" y=\"115.949878\"/>\r\n      </g>\r\n     </g>\r\n     <g id=\"text_28\">\r\n      <!-- 5.0 -->\r\n      <g transform=\"translate(35.967969 121.648706)scale(0.15 -0.15)\">\r\n       <use xlink:href=\"#DejaVuSans-35\"/>\r\n       <use x=\"63.623047\" xlink:href=\"#DejaVuSans-2e\"/>\r\n       <use x=\"95.410156\" xlink:href=\"#DejaVuSans-30\"/>\r\n      </g>\r\n     </g>\r\n    </g>\r\n    <g id=\"ytick_13\">\r\n     <g id=\"line2d_28\">\r\n      <g>\r\n       <use style=\"stroke:#000000;\" x=\"65.322656\" xlink:href=\"#mf6443cfd65\" y=\"74.214753\"/>\r\n      </g>\r\n     </g>\r\n     <g id=\"text_29\">\r\n      <!-- 6.0 -->\r\n      <g transform=\"translate(35.967969 79.913581)scale(0.15 -0.15)\">\r\n       <use xlink:href=\"#DejaVuSans-36\"/>\r\n       <use x=\"63.623047\" xlink:href=\"#DejaVuSans-2e\"/>\r\n       <use x=\"95.410156\" xlink:href=\"#DejaVuSans-30\"/>\r\n      </g>\r\n     </g>\r\n    </g>\r\n    <g id=\"text_30\">\r\n     <!-- x2 -->\r\n     <g transform=\"translate(22.396875 315.5175)rotate(-90)scale(0.2 -0.2)\">\r\n      <use xlink:href=\"#DejaVuSans-78\"/>\r\n      <use x=\"59.179688\" xlink:href=\"#DejaVuSans-32\"/>\r\n     </g>\r\n    </g>\r\n   </g>\r\n   <g id=\"patch_3\">\r\n    <path d=\"M 65.322656 575.03625 \r\nL 65.322656 31.43625 \r\n\" style=\"fill:none;stroke:#000000;stroke-linecap:square;stroke-linejoin:miter;stroke-width:0.8;\"/>\r\n   </g>\r\n   <g id=\"patch_4\">\r\n    <path d=\"M 902.322656 575.03625 \r\nL 902.322656 31.43625 \r\n\" style=\"fill:none;stroke:#000000;stroke-linecap:square;stroke-linejoin:miter;stroke-width:0.8;\"/>\r\n   </g>\r\n   <g id=\"patch_5\">\r\n    <path d=\"M 65.322656 575.03625 \r\nL 902.322656 575.03625 \r\n\" style=\"fill:none;stroke:#000000;stroke-linecap:square;stroke-linejoin:miter;stroke-width:0.8;\"/>\r\n   </g>\r\n   <g id=\"patch_6\">\r\n    <path d=\"M 65.322656 31.43625 \r\nL 902.322656 31.43625 \r\n\" style=\"fill:none;stroke:#000000;stroke-linecap:square;stroke-linejoin:miter;stroke-width:0.8;\"/>\r\n   </g>\r\n   <g id=\"text_31\">\r\n    <!-- Scatter Plot of x2 vs x1 -->\r\n    <g transform=\"translate(344.446406 25.43625)scale(0.24 -0.24)\">\r\n     <defs>\r\n      <path d=\"M 3425 4513 \r\nL 3425 3897 \r\nQ 3066 4069 2747 4153 \r\nQ 2428 4238 2131 4238 \r\nQ 1616 4238 1336 4038 \r\nQ 1056 3838 1056 3469 \r\nQ 1056 3159 1242 3001 \r\nQ 1428 2844 1947 2747 \r\nL 2328 2669 \r\nQ 3034 2534 3370 2195 \r\nQ 3706 1856 3706 1288 \r\nQ 3706 609 3251 259 \r\nQ 2797 -91 1919 -91 \r\nQ 1588 -91 1214 -16 \r\nQ 841 59 441 206 \r\nL 441 856 \r\nQ 825 641 1194 531 \r\nQ 1563 422 1919 422 \r\nQ 2459 422 2753 634 \r\nQ 3047 847 3047 1241 \r\nQ 3047 1584 2836 1778 \r\nQ 2625 1972 2144 2069 \r\nL 1759 2144 \r\nQ 1053 2284 737 2584 \r\nQ 422 2884 422 3419 \r\nQ 422 4038 858 4394 \r\nQ 1294 4750 2059 4750 \r\nQ 2388 4750 2728 4690 \r\nQ 3069 4631 3425 4513 \r\nz\r\n\" id=\"DejaVuSans-53\" transform=\"scale(0.015625)\"/>\r\n      <path d=\"M 3122 3366 \r\nL 3122 2828 \r\nQ 2878 2963 2633 3030 \r\nQ 2388 3097 2138 3097 \r\nQ 1578 3097 1268 2742 \r\nQ 959 2388 959 1747 \r\nQ 959 1106 1268 751 \r\nQ 1578 397 2138 397 \r\nQ 2388 397 2633 464 \r\nQ 2878 531 3122 666 \r\nL 3122 134 \r\nQ 2881 22 2623 -34 \r\nQ 2366 -91 2075 -91 \r\nQ 1284 -91 818 406 \r\nQ 353 903 353 1747 \r\nQ 353 2603 823 3093 \r\nQ 1294 3584 2113 3584 \r\nQ 2378 3584 2631 3529 \r\nQ 2884 3475 3122 3366 \r\nz\r\n\" id=\"DejaVuSans-63\" transform=\"scale(0.015625)\"/>\r\n      <path d=\"M 2194 1759 \r\nQ 1497 1759 1228 1600 \r\nQ 959 1441 959 1056 \r\nQ 959 750 1161 570 \r\nQ 1363 391 1709 391 \r\nQ 2188 391 2477 730 \r\nQ 2766 1069 2766 1631 \r\nL 2766 1759 \r\nL 2194 1759 \r\nz\r\nM 3341 1997 \r\nL 3341 0 \r\nL 2766 0 \r\nL 2766 531 \r\nQ 2569 213 2275 61 \r\nQ 1981 -91 1556 -91 \r\nQ 1019 -91 701 211 \r\nQ 384 513 384 1019 \r\nQ 384 1609 779 1909 \r\nQ 1175 2209 1959 2209 \r\nL 2766 2209 \r\nL 2766 2266 \r\nQ 2766 2663 2505 2880 \r\nQ 2244 3097 1772 3097 \r\nQ 1472 3097 1187 3025 \r\nQ 903 2953 641 2809 \r\nL 641 3341 \r\nQ 956 3463 1253 3523 \r\nQ 1550 3584 1831 3584 \r\nQ 2591 3584 2966 3190 \r\nQ 3341 2797 3341 1997 \r\nz\r\n\" id=\"DejaVuSans-61\" transform=\"scale(0.015625)\"/>\r\n      <path d=\"M 1172 4494 \r\nL 1172 3500 \r\nL 2356 3500 \r\nL 2356 3053 \r\nL 1172 3053 \r\nL 1172 1153 \r\nQ 1172 725 1289 603 \r\nQ 1406 481 1766 481 \r\nL 2356 481 \r\nL 2356 0 \r\nL 1766 0 \r\nQ 1100 0 847 248 \r\nQ 594 497 594 1153 \r\nL 594 3053 \r\nL 172 3053 \r\nL 172 3500 \r\nL 594 3500 \r\nL 594 4494 \r\nL 1172 4494 \r\nz\r\n\" id=\"DejaVuSans-74\" transform=\"scale(0.015625)\"/>\r\n      <path d=\"M 3597 1894 \r\nL 3597 1613 \r\nL 953 1613 \r\nQ 991 1019 1311 708 \r\nQ 1631 397 2203 397 \r\nQ 2534 397 2845 478 \r\nQ 3156 559 3463 722 \r\nL 3463 178 \r\nQ 3153 47 2828 -22 \r\nQ 2503 -91 2169 -91 \r\nQ 1331 -91 842 396 \r\nQ 353 884 353 1716 \r\nQ 353 2575 817 3079 \r\nQ 1281 3584 2069 3584 \r\nQ 2775 3584 3186 3129 \r\nQ 3597 2675 3597 1894 \r\nz\r\nM 3022 2063 \r\nQ 3016 2534 2758 2815 \r\nQ 2500 3097 2075 3097 \r\nQ 1594 3097 1305 2825 \r\nQ 1016 2553 972 2059 \r\nL 3022 2063 \r\nz\r\n\" id=\"DejaVuSans-65\" transform=\"scale(0.015625)\"/>\r\n      <path d=\"M 2631 2963 \r\nQ 2534 3019 2420 3045 \r\nQ 2306 3072 2169 3072 \r\nQ 1681 3072 1420 2755 \r\nQ 1159 2438 1159 1844 \r\nL 1159 0 \r\nL 581 0 \r\nL 581 3500 \r\nL 1159 3500 \r\nL 1159 2956 \r\nQ 1341 3275 1631 3429 \r\nQ 1922 3584 2338 3584 \r\nQ 2397 3584 2469 3576 \r\nQ 2541 3569 2628 3553 \r\nL 2631 2963 \r\nz\r\n\" id=\"DejaVuSans-72\" transform=\"scale(0.015625)\"/>\r\n      <path id=\"DejaVuSans-20\" transform=\"scale(0.015625)\"/>\r\n      <path d=\"M 1259 4147 \r\nL 1259 2394 \r\nL 2053 2394 \r\nQ 2494 2394 2734 2622 \r\nQ 2975 2850 2975 3272 \r\nQ 2975 3691 2734 3919 \r\nQ 2494 4147 2053 4147 \r\nL 1259 4147 \r\nz\r\nM 628 4666 \r\nL 2053 4666 \r\nQ 2838 4666 3239 4311 \r\nQ 3641 3956 3641 3272 \r\nQ 3641 2581 3239 2228 \r\nQ 2838 1875 2053 1875 \r\nL 1259 1875 \r\nL 1259 0 \r\nL 628 0 \r\nL 628 4666 \r\nz\r\n\" id=\"DejaVuSans-50\" transform=\"scale(0.015625)\"/>\r\n      <path d=\"M 603 4863 \r\nL 1178 4863 \r\nL 1178 0 \r\nL 603 0 \r\nL 603 4863 \r\nz\r\n\" id=\"DejaVuSans-6c\" transform=\"scale(0.015625)\"/>\r\n      <path d=\"M 1959 3097 \r\nQ 1497 3097 1228 2736 \r\nQ 959 2375 959 1747 \r\nQ 959 1119 1226 758 \r\nQ 1494 397 1959 397 \r\nQ 2419 397 2687 759 \r\nQ 2956 1122 2956 1747 \r\nQ 2956 2369 2687 2733 \r\nQ 2419 3097 1959 3097 \r\nz\r\nM 1959 3584 \r\nQ 2709 3584 3137 3096 \r\nQ 3566 2609 3566 1747 \r\nQ 3566 888 3137 398 \r\nQ 2709 -91 1959 -91 \r\nQ 1206 -91 779 398 \r\nQ 353 888 353 1747 \r\nQ 353 2609 779 3096 \r\nQ 1206 3584 1959 3584 \r\nz\r\n\" id=\"DejaVuSans-6f\" transform=\"scale(0.015625)\"/>\r\n      <path d=\"M 2375 4863 \r\nL 2375 4384 \r\nL 1825 4384 \r\nQ 1516 4384 1395 4259 \r\nQ 1275 4134 1275 3809 \r\nL 1275 3500 \r\nL 2222 3500 \r\nL 2222 3053 \r\nL 1275 3053 \r\nL 1275 0 \r\nL 697 0 \r\nL 697 3053 \r\nL 147 3053 \r\nL 147 3500 \r\nL 697 3500 \r\nL 697 3744 \r\nQ 697 4328 969 4595 \r\nQ 1241 4863 1831 4863 \r\nL 2375 4863 \r\nz\r\n\" id=\"DejaVuSans-66\" transform=\"scale(0.015625)\"/>\r\n      <path d=\"M 191 3500 \r\nL 800 3500 \r\nL 1894 563 \r\nL 2988 3500 \r\nL 3597 3500 \r\nL 2284 0 \r\nL 1503 0 \r\nL 191 3500 \r\nz\r\n\" id=\"DejaVuSans-76\" transform=\"scale(0.015625)\"/>\r\n      <path d=\"M 2834 3397 \r\nL 2834 2853 \r\nQ 2591 2978 2328 3040 \r\nQ 2066 3103 1784 3103 \r\nQ 1356 3103 1142 2972 \r\nQ 928 2841 928 2578 \r\nQ 928 2378 1081 2264 \r\nQ 1234 2150 1697 2047 \r\nL 1894 2003 \r\nQ 2506 1872 2764 1633 \r\nQ 3022 1394 3022 966 \r\nQ 3022 478 2636 193 \r\nQ 2250 -91 1575 -91 \r\nQ 1294 -91 989 -36 \r\nQ 684 19 347 128 \r\nL 347 722 \r\nQ 666 556 975 473 \r\nQ 1284 391 1588 391 \r\nQ 1994 391 2212 530 \r\nQ 2431 669 2431 922 \r\nQ 2431 1156 2273 1281 \r\nQ 2116 1406 1581 1522 \r\nL 1381 1569 \r\nQ 847 1681 609 1914 \r\nQ 372 2147 372 2553 \r\nQ 372 3047 722 3315 \r\nQ 1072 3584 1716 3584 \r\nQ 2034 3584 2315 3537 \r\nQ 2597 3491 2834 3397 \r\nz\r\n\" id=\"DejaVuSans-73\" transform=\"scale(0.015625)\"/>\r\n     </defs>\r\n     <use xlink:href=\"#DejaVuSans-53\"/>\r\n     <use x=\"63.476562\" xlink:href=\"#DejaVuSans-63\"/>\r\n     <use x=\"118.457031\" xlink:href=\"#DejaVuSans-61\"/>\r\n     <use x=\"179.736328\" xlink:href=\"#DejaVuSans-74\"/>\r\n     <use x=\"218.945312\" xlink:href=\"#DejaVuSans-74\"/>\r\n     <use x=\"258.154297\" xlink:href=\"#DejaVuSans-65\"/>\r\n     <use x=\"319.677734\" xlink:href=\"#DejaVuSans-72\"/>\r\n     <use x=\"360.791016\" xlink:href=\"#DejaVuSans-20\"/>\r\n     <use x=\"392.578125\" xlink:href=\"#DejaVuSans-50\"/>\r\n     <use x=\"452.880859\" xlink:href=\"#DejaVuSans-6c\"/>\r\n     <use x=\"480.664062\" xlink:href=\"#DejaVuSans-6f\"/>\r\n     <use x=\"541.845703\" xlink:href=\"#DejaVuSans-74\"/>\r\n     <use x=\"581.054688\" xlink:href=\"#DejaVuSans-20\"/>\r\n     <use x=\"612.841797\" xlink:href=\"#DejaVuSans-6f\"/>\r\n     <use x=\"674.023438\" xlink:href=\"#DejaVuSans-66\"/>\r\n     <use x=\"709.228516\" xlink:href=\"#DejaVuSans-20\"/>\r\n     <use x=\"741.015625\" xlink:href=\"#DejaVuSans-78\"/>\r\n     <use x=\"800.195312\" xlink:href=\"#DejaVuSans-32\"/>\r\n     <use x=\"863.818359\" xlink:href=\"#DejaVuSans-20\"/>\r\n     <use x=\"895.605469\" xlink:href=\"#DejaVuSans-76\"/>\r\n     <use x=\"954.785156\" xlink:href=\"#DejaVuSans-73\"/>\r\n     <use x=\"1006.884766\" xlink:href=\"#DejaVuSans-20\"/>\r\n     <use x=\"1038.671875\" xlink:href=\"#DejaVuSans-78\"/>\r\n     <use x=\"1097.851562\" xlink:href=\"#DejaVuSans-31\"/>\r\n    </g>\r\n   </g>\r\n  </g>\r\n </g>\r\n <defs>\r\n  <clipPath id=\"p376dbd7c14\">\r\n   <rect height=\"543.6\" width=\"837\" x=\"65.322656\" y=\"31.43625\"/>\r\n  </clipPath>\r\n </defs>\r\n</svg>\r\n",
      "image/png": "[encoded data removed]"
     },
     "metadata": {
      "needs_background": "light"
     }
    }
   ],
   "source": [
    "plot_points(figure_title='Scatter Plot of x2 vs x1')"
   ]
  },
  {
   "cell_type": "markdown",
   "metadata": {
    "button": false,
    "new_sheet": false,
    "run_control": {
     "read_only": false
    }
   },
   "source": [
    "#### Initialize _k_-means - randomly define clusters and add them to plot\n"
   ]
  },
  {
   "cell_type": "code",
   "execution_count": null,
   "metadata": {
    "button": false,
    "new_sheet": false,
    "run_control": {
     "read_only": false
    }
   },
   "outputs": [],
   "source": [
    "centers = [[-2, 2], [2, -2]]\n",
    "plot_points(centers, figure_title='k-means Initialization')"
   ]
  },
  {
   "cell_type": "markdown",
   "metadata": {
    "button": false,
    "new_sheet": false,
    "run_control": {
     "read_only": false
    }
   },
   "source": [
    "#### Run _k_-means (4-iterations only)\n"
   ]
  },
  {
   "cell_type": "code",
   "execution_count": null,
   "metadata": {
    "button": false,
    "new_sheet": false,
    "run_control": {
     "read_only": false
    },
    "scrolled": false
   },
   "outputs": [],
   "source": [
    "number_of_iterations = 4\n",
    "for i in range(number_of_iterations):\n",
    "    input('Iteration {} - Press Enter to update the members of each cluster'.format(i + 1))\n",
    "    colors, class_of_points = assign_members(x1, x2, centers)\n",
    "    title = 'Iteration {} - Cluster Assignment'.format(i + 1)\n",
    "    plot_points(centers, colors, figure_title=title)\n",
    "    input('Iteration {} - Press Enter to update the centers'.format(i + 1))\n",
    "    centers = update_centers(x1, x2, class_of_points)\n",
    "    title = 'Iteration {} - Centroid Update'.format(i + 1)\n",
    "    plot_points(centers, colors, figure_title=title)"
   ]
  },
  {
   "cell_type": "markdown",
   "metadata": {
    "button": false,
    "new_sheet": false,
    "run_control": {
     "read_only": false
    }
   },
   "source": [
    "Now, we have visually observed how <em>k</em>-means works, let's look at an example with many more datapoints. For this example, we will use the <strong>random</strong> library to generate thousands of datapoints.\n"
   ]
  },
  {
   "cell_type": "markdown",
   "metadata": {
    "button": false,
    "new_sheet": false,
    "run_control": {
     "read_only": false
    }
   },
   "source": [
    "### Generating the Data\n"
   ]
  },
  {
   "cell_type": "markdown",
   "metadata": {
    "button": false,
    "new_sheet": false,
    "run_control": {
     "read_only": false
    }
   },
   "source": [
    "First, we need to set up a random seed. We use the Numpy's **random.seed()** function, and we will set the seed to 0. In other words, **random.seed(0)**.\n"
   ]
  },
  {
   "cell_type": "code",
   "execution_count": null,
   "metadata": {
    "button": false,
    "new_sheet": false,
    "run_control": {
     "read_only": false
    }
   },
   "outputs": [],
   "source": [
    "np.random.seed(0)"
   ]
  },
  {
   "cell_type": "markdown",
   "metadata": {
    "button": false,
    "new_sheet": false,
    "run_control": {
     "read_only": false
    }
   },
   "source": [
    "Next we will be making _random clusters_ of points by using the **make_blobs** class. The **make_blobs** class can take in many inputs, but we will use these specific ones.\n",
    "\n",
    "<b> <u> Input </u> </b>\n",
    "\n",
    "<ul>\n",
    "    <li> <b>n_samples</b>: The total number of points equally divided among clusters. </li>\n",
    "    <ul> <li> Value will be: 5000 </li> </ul>\n",
    "    <li> <b>centers</b>: The number of centers to generate, or the fixed center locations. </li>\n",
    "    <ul> <li> Value will be: [[4, 4], [-2, -1], [2, -3],[1,1]] </li> </ul>\n",
    "    <li> <b>cluster_std</b>: The standard deviation of the clusters. </li>\n",
    "    <ul> <li> Value will be: 0.9 </li> </ul>\n",
    "</ul>\n",
    "\n",
    "<b> <u> Output </u> </b>\n",
    "\n",
    "<ul>\n",
    "    <li> <b>X</b>: Array of shape [n_samples, n_features]. (Feature Matrix)</li>\n",
    "    <ul> <li> The generated samples. </li> </ul> \n",
    "    <li> <b>y</b>: Array of shape [n_samples]. (Response Vector)</li>\n",
    "    <ul> <li> The integer labels for cluster membership of each sample. </li> </ul>\n",
    "</ul>\n"
   ]
  },
  {
   "cell_type": "code",
   "execution_count": null,
   "metadata": {
    "button": false,
    "new_sheet": false,
    "run_control": {
     "read_only": false
    }
   },
   "outputs": [],
   "source": [
    "X, y = make_blobs(n_samples=5000, centers=[[4, 4], [-2, -1], [2, -3], [1, 1]], cluster_std=0.9)"
   ]
  },
  {
   "cell_type": "markdown",
   "metadata": {
    "button": false,
    "new_sheet": false,
    "run_control": {
     "read_only": false
    }
   },
   "source": [
    "Display the scatter plot of the randomly generated data.\n"
   ]
  },
  {
   "cell_type": "code",
   "execution_count": null,
   "metadata": {
    "button": false,
    "new_sheet": false,
    "run_control": {
     "read_only": false
    }
   },
   "outputs": [],
   "source": [
    "plt.figure(figsize=(15, 10))\n",
    "plt.scatter(X[:, 0], X[:, 1], marker='.')"
   ]
  },
  {
   "cell_type": "markdown",
   "metadata": {
    "button": false,
    "new_sheet": false,
    "run_control": {
     "read_only": false
    }
   },
   "source": [
    "### Setting up _k_-means\n"
   ]
  },
  {
   "cell_type": "markdown",
   "metadata": {
    "button": false,
    "new_sheet": false,
    "run_control": {
     "read_only": false
    }
   },
   "source": [
    "Now that we have our random data, let's set up our _k_-means clustering.\n"
   ]
  },
  {
   "cell_type": "markdown",
   "metadata": {
    "button": false,
    "new_sheet": false,
    "run_control": {
     "read_only": false
    }
   },
   "source": [
    "The KMeans class has many parameters that can be used, but we will use these three:\n",
    "\n",
    "<ul>\n",
    "    <li> <strong>init</strong>: Initialization method of the centroids. </li>\n",
    "    <ul>\n",
    "        <li> Value will be: \"k-means++\". k-means++ selects initial cluster centers for <em>k</em>-means clustering in a smart way to speed up convergence.</li>\n",
    "    </ul>\n",
    "    <li> <strong>n_clusters</strong>: The number of clusters to form as well as the number of centroids to generate. </li>\n",
    "    <ul> <li> Value will be: 4 (since we have 4 centers)</li> </ul>\n",
    "    <li> <strong>n_init</strong>: Number of times the <em>k</em>-means algorithm will be run with different centroid seeds. The final results will be the best output of n_init consecutive runs in terms of inertia. </li>\n",
    "    <ul> <li> Value will be: 12 </li> </ul>\n",
    "</ul>\n",
    "\n",
    "Initialize KMeans with these parameters, where the output parameter is called **k_means**.\n"
   ]
  },
  {
   "cell_type": "code",
   "execution_count": null,
   "metadata": {
    "button": false,
    "new_sheet": false,
    "run_control": {
     "read_only": false
    }
   },
   "outputs": [],
   "source": [
    "k_means = KMeans(init=\"k-means++\", n_clusters=4, n_init=12)"
   ]
  },
  {
   "cell_type": "markdown",
   "metadata": {
    "button": false,
    "new_sheet": false,
    "run_control": {
     "read_only": false
    }
   },
   "source": [
    "Now let's fit the KMeans model with the feature matrix we created above, <b> X </b>.\n"
   ]
  },
  {
   "cell_type": "code",
   "execution_count": null,
   "metadata": {
    "button": false,
    "new_sheet": false,
    "run_control": {
     "read_only": false
    }
   },
   "outputs": [],
   "source": [
    "k_means.fit(X)"
   ]
  },
  {
   "cell_type": "markdown",
   "metadata": {
    "button": false,
    "new_sheet": false,
    "run_control": {
     "read_only": false
    }
   },
   "source": [
    "Now let's grab the labels for each point in the model using KMeans **.labels_** attribute and save it as **k_means_labels**.\n"
   ]
  },
  {
   "cell_type": "code",
   "execution_count": null,
   "metadata": {
    "button": false,
    "new_sheet": false,
    "run_control": {
     "read_only": false
    }
   },
   "outputs": [],
   "source": [
    "k_means_labels = k_means.labels_\n",
    "k_means_labels"
   ]
  },
  {
   "cell_type": "markdown",
   "metadata": {
    "button": false,
    "new_sheet": false,
    "run_control": {
     "read_only": false
    }
   },
   "source": [
    "We will also get the coordinates of the cluster centers using KMeans **.cluster_centers_** and save it as **k_means_cluster_centers**.\n"
   ]
  },
  {
   "cell_type": "code",
   "execution_count": null,
   "metadata": {
    "button": false,
    "new_sheet": false,
    "run_control": {
     "read_only": false
    }
   },
   "outputs": [],
   "source": [
    "k_means_cluster_centers = k_means.cluster_centers_\n",
    "k_means_cluster_centers"
   ]
  },
  {
   "cell_type": "markdown",
   "metadata": {
    "button": false,
    "new_sheet": false,
    "run_control": {
     "read_only": false
    }
   },
   "source": [
    "### Visualizing the Resulting Clusters\n"
   ]
  },
  {
   "cell_type": "markdown",
   "metadata": {
    "button": false,
    "new_sheet": false,
    "run_control": {
     "read_only": false
    }
   },
   "source": [
    "So now that we have the random data generated and the KMeans model initialized, let's plot them and see what the clusters look like.\n"
   ]
  },
  {
   "cell_type": "markdown",
   "metadata": {
    "button": false,
    "new_sheet": false,
    "run_control": {
     "read_only": false
    }
   },
   "source": [
    "Please read through the code and comments to understand how to plot the model.\n"
   ]
  },
  {
   "cell_type": "code",
   "execution_count": null,
   "metadata": {
    "button": false,
    "new_sheet": false,
    "run_control": {
     "read_only": false
    }
   },
   "outputs": [],
   "source": [
    "# initialize the plot with the specified dimensions.\n",
    "fig = plt.figure(figsize=(15, 10))\n",
    "\n",
    "# colors uses a color map, which will produce an array of colors based on\n",
    "# the number of labels. We use set(k_means_labels) to get the\n",
    "# unique labels.\n",
    "colors = plt.cm.Spectral(np.linspace(0, 1, len(set(k_means_labels))))\n",
    "\n",
    "# create a plot\n",
    "ax = fig.add_subplot(1, 1, 1)\n",
    "\n",
    "# loop through the data and plot the datapoints and centroids.\n",
    "# k will range from 0-3, which will match the number of clusters in the dataset.\n",
    "for k, col in zip(range(len([[4,4], [-2, -1], [2, -3], [1, 1]])), colors):\n",
    "\n",
    "    # create a list of all datapoints, where the datapoitns that are \n",
    "    # in the cluster (ex. cluster 0) are labeled as true, else they are\n",
    "    # labeled as false.\n",
    "    my_members = (k_means_labels == k)\n",
    "    \n",
    "    # define the centroid, or cluster center.\n",
    "    cluster_center = k_means_cluster_centers[k]\n",
    "    \n",
    "    # plot the datapoints with color col.\n",
    "    ax.plot(X[my_members, 0], X[my_members, 1], 'w', markerfacecolor=col, marker='.')\n",
    "    \n",
    "    # plot the centroids with specified color, but with a darker outline\n",
    "    ax.plot(cluster_center[0], cluster_center[1], 'o', markerfacecolor=col,  markeredgecolor='k', markersize=6)\n",
    "\n",
    "# title of the plot\n",
    "ax.set_title('KMeans')\n",
    "\n",
    "# remove x-axis ticks\n",
    "ax.set_xticks(())\n",
    "\n",
    "# remove y-axis ticks\n",
    "ax.set_yticks(())\n",
    "\n",
    "# show the plot\n",
    "plt.show()"
   ]
  },
  {
   "cell_type": "markdown",
   "metadata": {
    "button": false,
    "new_sheet": false,
    "run_control": {
     "read_only": false
    }
   },
   "source": [
    "<a id='item2'></a>\n"
   ]
  },
  {
   "cell_type": "markdown",
   "metadata": {
    "button": false,
    "new_sheet": false,
    "run_control": {
     "read_only": false
    }
   },
   "source": [
    "## 2. Using _k_-means for Customer Segmentation\n"
   ]
  },
  {
   "cell_type": "markdown",
   "metadata": {
    "button": false,
    "new_sheet": false,
    "run_control": {
     "read_only": false
    }
   },
   "source": [
    "Imagine that you have a customer dataset, and you are interested in exploring the behavior of your customers using their historical data.\n",
    "\n",
    "Customer segmentation is the practice of partitioning a customer base into groups of individuals that have similar characteristics. It is a significant strategy as a business can target these specific groups of customers and effectively allocate marketing resources. For example, one group might contain customers who are high-profit and low-risk, that is, more likely to purchase products, or subscribe to a service. A business task is to retain those customers. Another group might include customers from non-profit organizations, and so on.\n"
   ]
  },
  {
   "cell_type": "markdown",
   "metadata": {
    "button": false,
    "new_sheet": false,
    "run_control": {
     "read_only": false
    }
   },
   "source": [
    "### Downloading Data\n"
   ]
  },
  {
   "cell_type": "markdown",
   "metadata": {
    "button": false,
    "new_sheet": false,
    "run_control": {
     "read_only": false
    }
   },
   "source": [
    "Let's download the data and save it as a CSV file called **customer_segmentation.csv**\n"
   ]
  },
  {
   "cell_type": "code",
   "execution_count": null,
   "metadata": {
    "button": false,
    "new_sheet": false,
    "run_control": {
     "read_only": false
    }
   },
   "outputs": [],
   "source": [
    "!wget -q -O 'customer_segmentation.csv' https://cf-courses-data.s3.us.cloud-object-storage.appdomain.cloud/IBMDeveloperSkillsNetwork-DS0701EN-SkillsNetwork/labs/customer_segmentation.csv\n",
    "print('Data downloaded!')"
   ]
  },
  {
   "cell_type": "markdown",
   "metadata": {
    "button": false,
    "new_sheet": false,
    "run_control": {
     "read_only": false
    }
   },
   "source": [
    "Now that the data is downloaded, let's read it into a _pandas_ dataframe.\n"
   ]
  },
  {
   "cell_type": "code",
   "execution_count": null,
   "metadata": {
    "button": false,
    "new_sheet": false,
    "run_control": {
     "read_only": false
    }
   },
   "outputs": [],
   "source": [
    "customers_df = pd.read_csv('customer_segmentation.csv')\n",
    "customers_df.head()"
   ]
  },
  {
   "cell_type": "markdown",
   "metadata": {
    "button": false,
    "new_sheet": false,
    "run_control": {
     "read_only": false
    }
   },
   "source": [
    "### Pre-processing\n"
   ]
  },
  {
   "cell_type": "markdown",
   "metadata": {
    "button": false,
    "new_sheet": false,
    "run_control": {
     "read_only": false
    }
   },
   "source": [
    "As you can see, **Address** in this dataset is a categorical variable. k-means algorithm isn't directly applicable to categorical variables because Euclidean distance function isn't really meaningful for discrete variables. So, lets drop this feature and run clustering.\n"
   ]
  },
  {
   "cell_type": "code",
   "execution_count": null,
   "metadata": {
    "button": false,
    "new_sheet": false,
    "run_control": {
     "read_only": false
    }
   },
   "outputs": [],
   "source": [
    "df = customers_df.drop('Address', axis=1)\n",
    "df.head()"
   ]
  },
  {
   "cell_type": "markdown",
   "metadata": {
    "button": false,
    "new_sheet": false,
    "run_control": {
     "read_only": false
    }
   },
   "source": [
    "Now let's normalize the dataset. But why do we need normalization in the first place? Normalization is a statistical method that helps mathematical-based algorithms interpret features with different magnitudes and distributions equally. We use **StandardScaler()** to normalize our dataset.\n"
   ]
  },
  {
   "cell_type": "code",
   "execution_count": null,
   "metadata": {
    "button": false,
    "new_sheet": false,
    "run_control": {
     "read_only": false
    }
   },
   "outputs": [],
   "source": [
    "from sklearn.preprocessing import StandardScaler\n",
    "\n",
    "X = df.values[:,1:]\n",
    "X = np.nan_to_num(X)\n",
    "cluster_dataset = StandardScaler().fit_transform(X)\n",
    "cluster_dataset"
   ]
  },
  {
   "cell_type": "markdown",
   "metadata": {
    "button": false,
    "new_sheet": false,
    "run_control": {
     "read_only": false
    }
   },
   "source": [
    "### Modeling\n"
   ]
  },
  {
   "cell_type": "markdown",
   "metadata": {
    "button": false,
    "new_sheet": false,
    "run_control": {
     "read_only": false
    }
   },
   "source": [
    "Let's run our model and group our customers into three clusters.\n"
   ]
  },
  {
   "cell_type": "code",
   "execution_count": null,
   "metadata": {},
   "outputs": [],
   "source": [
    "num_clusters = 3\n",
    "\n",
    "k_means = KMeans(init=\"k-means++\", n_clusters=num_clusters, n_init=12)\n",
    "k_means.fit(cluster_dataset)\n",
    "labels = k_means.labels_\n",
    "\n",
    "print(labels)"
   ]
  },
  {
   "cell_type": "markdown",
   "metadata": {},
   "source": [
    "<h2 id=\"insights\">Insights</h2>\n"
   ]
  },
  {
   "cell_type": "markdown",
   "metadata": {
    "button": false,
    "new_sheet": false,
    "run_control": {
     "read_only": false
    }
   },
   "source": [
    "Note that each row in our dataset represents a customer, and therefore, each row is assigned a label.\n"
   ]
  },
  {
   "cell_type": "code",
   "execution_count": null,
   "metadata": {
    "button": false,
    "new_sheet": false,
    "run_control": {
     "read_only": false
    }
   },
   "outputs": [],
   "source": [
    "df[\"Labels\"] = labels\n",
    "df.head(5)"
   ]
  },
  {
   "cell_type": "markdown",
   "metadata": {
    "button": false,
    "new_sheet": false,
    "run_control": {
     "read_only": false
    }
   },
   "source": [
    "We can easily check the centroid values by averaging the features in each cluster.\n"
   ]
  },
  {
   "cell_type": "code",
   "execution_count": null,
   "metadata": {
    "button": false,
    "new_sheet": false,
    "run_control": {
     "read_only": false
    }
   },
   "outputs": [],
   "source": [
    "df.groupby('Labels').mean()"
   ]
  },
  {
   "cell_type": "markdown",
   "metadata": {
    "button": false,
    "new_sheet": false,
    "run_control": {
     "read_only": false
    }
   },
   "source": [
    "<em>k</em>-means will partition your customers into three groups since we specified the algorithm to generate 3 clusters. The customers in each cluster are similar to each other in terms of the features included in the dataset.\n",
    "\n",
    "Now we can create a profile for each group, considering the common characteristics of each cluster. \n",
    "For example, the 3 clusters can be:\n",
    "\n",
    "-   OLDER, HIGH INCOME, AND INDEBTED\n",
    "-   MIDDLE AGED, MIDDLE INCOME, AND FINANCIALLY RESPONSIBLE\n",
    "-   YOUNG, LOW INCOME, AND INDEBTED\n"
   ]
  },
  {
   "cell_type": "markdown",
   "metadata": {},
   "source": [
    "However, you can devise your own profiles based on the means above and come up with labels that you think best describe each cluster.\n"
   ]
  },
  {
   "cell_type": "markdown",
   "metadata": {
    "button": false,
    "new_sheet": false,
    "run_control": {
     "read_only": false
    }
   },
   "source": [
    "I hope that you are able to see the power of _k_-means here. This clustering algorithm provided us with insight into the dataset and lead us to group the data into three clusters. Perhaps the same results would have been achieved but using multiple tests and experiments.\n"
   ]
  },
  {
   "cell_type": "markdown",
   "metadata": {
    "button": false,
    "new_sheet": false,
    "run_control": {
     "read_only": false
    }
   },
   "source": [
    "### Thank you for completing this lab!\n",
    "\n",
    "This notebook was created by [Saeed Aghabozorgi](https://ca.linkedin.com/in/saeedaghabozorgi?cm_mmc=Email_Newsletter-_-Developer_Ed%2BTech-_-WW_WW-_-SkillsNetwork-Courses-IBMDeveloperSkillsNetwork-DS0701EN-SkillsNetwork-21253531&cm_mmca1=000026UJ&cm_mmca2=10006555&cm_mmca3=M12345678&cvosrc=email.Newsletter.M12345678&cvo_campaign=000026UJ&cm_mmc=Email_Newsletter-_-Developer_Ed%2BTech-_-WW_WW-_-SkillsNetwork-Courses-IBMDeveloperSkillsNetwork-DS0701EN-SkillsNetwork-21253531&cm_mmca1=000026UJ&cm_mmca2=10006555&cm_mmca3=M12345678&cvosrc=email.Newsletter.M12345678&cvo_campaign=000026UJ) and [Alex Aklson](https://www.linkedin.com/in/aklson?cm_mmc=Email_Newsletter-_-Developer_Ed%2BTech-_-WW_WW-_-SkillsNetwork-Courses-IBMDeveloperSkillsNetwork-DS0701EN-SkillsNetwork-21253531&cm_mmca1=000026UJ&cm_mmca2=10006555&cm_mmca3=M12345678&cvosrc=email.Newsletter.M12345678&cvo_campaign=000026UJ&cm_mmc=Email_Newsletter-_-Developer_Ed%2BTech-_-WW_WW-_-SkillsNetwork-Courses-IBMDeveloperSkillsNetwork-DS0701EN-SkillsNetwork-21253531&cm_mmca1=000026UJ&cm_mmca2=10006555&cm_mmca3=M12345678&cvosrc=email.Newsletter.M12345678&cvo_campaign=000026UJ). We hope you found this lab interesting and educational. Feel free to contact us if you have any questions!\n"
   ]
  },
  {
   "cell_type": "markdown",
   "metadata": {
    "button": false,
    "new_sheet": false,
    "run_control": {
     "read_only": false
    }
   },
   "source": [
    "This notebook is part of a course on **Coursera** called _Applied Data Science Capstone_. If you accessed this notebook outside the course, you can take this course online by clicking [here](http://cocl.us/DP0701EN_Coursera_Week3_LAB1).\n"
   ]
  },
  {
   "cell_type": "markdown",
   "metadata": {
    "button": false,
    "new_sheet": false,
    "run_control": {
     "read_only": false
    }
   },
   "source": [
    "<hr>\n",
    "\n",
    "Copyright © 2018 [Cognitive Class](https://cognitiveclass.ai?utm_source=bducopyrightlink&utm_medium=dswb&utm_campaign=bdu&cm_mmc=Email_Newsletter-_-Developer_Ed%2BTech-_-WW_WW-_-SkillsNetwork-Courses-IBMDeveloperSkillsNetwork-DS0701EN-SkillsNetwork-21253531&cm_mmca1=000026UJ&cm_mmca2=10006555&cm_mmca3=M12345678&cvosrc=email.Newsletter.M12345678&cvo_campaign=000026UJ&cm_mmc=Email_Newsletter-_-Developer_Ed%2BTech-_-WW_WW-_-SkillsNetwork-Courses-IBMDeveloperSkillsNetwork-DS0701EN-SkillsNetwork-21253531&cm_mmca1=000026UJ&cm_mmca2=10006555&cm_mmca3=M12345678&cvosrc=email.Newsletter.M12345678&cvo_campaign=000026UJ&cm_mmc=Email_Newsletter-_-Developer_Ed%2BTech-_-WW_WW-_-SkillsNetwork-Courses-IBMDeveloperSkillsNetwork-DS0701EN-SkillsNetwork-21253531&cm_mmca1=000026UJ&cm_mmca2=10006555&cm_mmca3=M12345678&cvosrc=email.Newsletter.M12345678&cvo_campaign=000026UJ&cm_mmc=Email_Newsletter-_-Developer_Ed%2BTech-_-WW_WW-_-SkillsNetwork-Courses-IBMDeveloperSkillsNetwork-DS0701EN-SkillsNetwork-21253531&cm_mmca1=000026UJ&cm_mmca2=10006555&cm_mmca3=M12345678&cvosrc=email.Newsletter.M12345678&cvo_campaign=000026UJ). This notebook and its source code are released under the terms of the [MIT License](https://bigdatauniversity.com/mit-license?cm_mmc=Email_Newsletter-_-Developer_Ed%2BTech-_-WW_WW-_-SkillsNetwork-Courses-IBMDeveloperSkillsNetwork-DS0701EN-SkillsNetwork-21253531&cm_mmca1=000026UJ&cm_mmca2=10006555&cm_mmca3=M12345678&cvosrc=email.Newsletter.M12345678&cvo_campaign=000026UJ&cm_mmc=Email_Newsletter-_-Developer_Ed%2BTech-_-WW_WW-_-SkillsNetwork-Courses-IBMDeveloperSkillsNetwork-DS0701EN-SkillsNetwork-21253531&cm_mmca1=000026UJ&cm_mmca2=10006555&cm_mmca3=M12345678&cvosrc=email.Newsletter.M12345678&cvo_campaign=000026UJ).\n"
   ]
  }
 ],
 "metadata": {
  "kernelspec": {
   "name": "python392jvsc74a57bd024a941484bc4b703cafeefa013352195711caa766f263cfe4432552f653d251b",
   "display_name": "Python 3.9.2 64-bit ('venv': conda)"
  },
  "language_info": {
   "codemirror_mode": {
    "name": "ipython",
    "version": 3
   },
   "file_extension": ".py",
   "mimetype": "text/x-python",
   "name": "python",
   "nbconvert_exporter": "python",
   "pygments_lexer": "ipython3",
   "version": "3.9.2"
  },
  "widgets": {
   "state": {},
   "version": "1.1.2"
  }
 },
 "nbformat": 4,
 "nbformat_minor": 2
}